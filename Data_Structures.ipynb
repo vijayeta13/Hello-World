{
 "cells": [
  {
   "cell_type": "markdown",
   "id": "de2540d3",
   "metadata": {},
   "source": [
    "## Data Structures"
   ]
  },
  {
   "cell_type": "markdown",
   "id": "7cca0d91",
   "metadata": {},
   "source": [
    "### List\n",
    "### Tuples\n",
    "### Dict\n",
    "### Set"
   ]
  },
  {
   "cell_type": "code",
   "execution_count": 2,
   "id": "eb4cde1d",
   "metadata": {},
   "outputs": [
    {
     "data": {
      "text/plain": [
       "tuple"
      ]
     },
     "execution_count": 2,
     "metadata": {},
     "output_type": "execute_result"
    }
   ],
   "source": [
    "x=\"sapota\",\"guava\",\"pineapple\"\n",
    "type(x)"
   ]
  },
  {
   "cell_type": "code",
   "execution_count": 3,
   "id": "32125969",
   "metadata": {},
   "outputs": [
    {
     "data": {
      "text/plain": [
       "list"
      ]
     },
     "execution_count": 3,
     "metadata": {},
     "output_type": "execute_result"
    }
   ],
   "source": [
    "x=['sapota','gauva','pineapple']\n",
    "type(x)"
   ]
  },
  {
   "cell_type": "code",
   "execution_count": 4,
   "id": "9754ee0e",
   "metadata": {},
   "outputs": [
    {
     "data": {
      "text/plain": [
       "set"
      ]
     },
     "execution_count": 4,
     "metadata": {},
     "output_type": "execute_result"
    }
   ],
   "source": [
    "x={'sapota','gauva','pineapple'}\n",
    "type(x)"
   ]
  },
  {
   "cell_type": "code",
   "execution_count": 8,
   "id": "1ff10d78",
   "metadata": {},
   "outputs": [
    {
     "data": {
      "text/plain": [
       "dict"
      ]
     },
     "execution_count": 8,
     "metadata": {},
     "output_type": "execute_result"
    }
   ],
   "source": [
    "x={\"sapota\":\"weight\",\"30\":\"colour\"}\n",
    "type(x)"
   ]
  },
  {
   "cell_type": "markdown",
   "id": "9a5e1d71",
   "metadata": {},
   "source": [
    "## List\n",
    "### Allows heterogenous data\n",
    "### Index starts from 0\n",
    "### Mutable using index\n",
    "### enclosed using [ ]\n",
    "\n"
   ]
  },
  {
   "cell_type": "code",
   "execution_count": 10,
   "id": "5fef485e",
   "metadata": {},
   "outputs": [
    {
     "data": {
      "text/plain": [
       "[12, 43, 56, 'hi', (1+2j), 6.7]"
      ]
     },
     "execution_count": 10,
     "metadata": {},
     "output_type": "execute_result"
    }
   ],
   "source": [
    "sample_list=[12,43,56,\"hi\",1+2j,6.7]\n",
    "sample_list"
   ]
  },
  {
   "cell_type": "code",
   "execution_count": 11,
   "id": "02bed972",
   "metadata": {},
   "outputs": [
    {
     "data": {
      "text/plain": [
       "list"
      ]
     },
     "execution_count": 11,
     "metadata": {},
     "output_type": "execute_result"
    }
   ],
   "source": [
    "type(sample_list)"
   ]
  },
  {
   "cell_type": "code",
   "execution_count": 12,
   "id": "d2687098",
   "metadata": {},
   "outputs": [
    {
     "data": {
      "text/plain": [
       "12"
      ]
     },
     "execution_count": 12,
     "metadata": {},
     "output_type": "execute_result"
    }
   ],
   "source": [
    "sample_list[0]\n"
   ]
  },
  {
   "cell_type": "code",
   "execution_count": 13,
   "id": "f7d8e4ac",
   "metadata": {},
   "outputs": [
    {
     "data": {
      "text/plain": [
       "'hi'"
      ]
     },
     "execution_count": 13,
     "metadata": {},
     "output_type": "execute_result"
    }
   ],
   "source": [
    "sample_list[3]"
   ]
  },
  {
   "cell_type": "code",
   "execution_count": 14,
   "id": "661449cb",
   "metadata": {},
   "outputs": [
    {
     "ename": "IndexError",
     "evalue": "list index out of range",
     "output_type": "error",
     "traceback": [
      "\u001b[1;31m---------------------------------------------------------------------------\u001b[0m",
      "\u001b[1;31mIndexError\u001b[0m                                Traceback (most recent call last)",
      "\u001b[1;32m~\\AppData\\Local\\Temp/ipykernel_7696/1644038354.py\u001b[0m in \u001b[0;36m<module>\u001b[1;34m\u001b[0m\n\u001b[1;32m----> 1\u001b[1;33m \u001b[0msample_list\u001b[0m\u001b[1;33m[\u001b[0m\u001b[1;36m13\u001b[0m\u001b[1;33m]\u001b[0m\u001b[1;33m\u001b[0m\u001b[1;33m\u001b[0m\u001b[0m\n\u001b[0m",
      "\u001b[1;31mIndexError\u001b[0m: list index out of range"
     ]
    }
   ],
   "source": [
    "sample_list[13]"
   ]
  },
  {
   "cell_type": "code",
   "execution_count": 17,
   "id": "c42eed91",
   "metadata": {},
   "outputs": [
    {
     "data": {
      "text/plain": [
       "[12, 43, 56, 400, (1+2j), 6.7]"
      ]
     },
     "execution_count": 17,
     "metadata": {},
     "output_type": "execute_result"
    }
   ],
   "source": [
    "sample_list[3]=400\n",
    "sample_list"
   ]
  },
  {
   "cell_type": "code",
   "execution_count": 19,
   "id": "b6d0d7a7",
   "metadata": {},
   "outputs": [
    {
     "data": {
      "text/plain": [
       "[12, 43, 56, 400, 140, 6.7]"
      ]
     },
     "execution_count": 19,
     "metadata": {},
     "output_type": "execute_result"
    }
   ],
   "source": [
    "sample_list[4]=140\n",
    "sample_list"
   ]
  },
  {
   "cell_type": "code",
   "execution_count": 24,
   "id": "c2000f8b",
   "metadata": {},
   "outputs": [
    {
     "data": {
      "text/plain": [
       "[6.7, 12, 43, 56, 140, 47]"
      ]
     },
     "execution_count": 24,
     "metadata": {},
     "output_type": "execute_result"
    }
   ],
   "source": [
    "sample_list[5]=47\n",
    "sample_list"
   ]
  },
  {
   "cell_type": "code",
   "execution_count": 26,
   "id": "65ae6138",
   "metadata": {},
   "outputs": [
    {
     "data": {
      "text/plain": [
       "[21, 34, 65, 12, 8.8]"
      ]
     },
     "execution_count": 26,
     "metadata": {},
     "output_type": "execute_result"
    }
   ],
   "source": [
    "sample_list=[21,34,65,12,8.8]\n",
    "sample_list"
   ]
  },
  {
   "cell_type": "code",
   "execution_count": 27,
   "id": "e6ff2c52",
   "metadata": {},
   "outputs": [],
   "source": [
    "sample_list.sort()"
   ]
  },
  {
   "cell_type": "code",
   "execution_count": 39,
   "id": "ca257d6d",
   "metadata": {
    "scrolled": true
   },
   "outputs": [
    {
     "data": {
      "text/plain": [
       "[8.8, 12, 21, 34, 65]"
      ]
     },
     "execution_count": 39,
     "metadata": {},
     "output_type": "execute_result"
    }
   ],
   "source": [
    "sample_list"
   ]
  },
  {
   "cell_type": "code",
   "execution_count": 41,
   "id": "ffc56e92",
   "metadata": {},
   "outputs": [
    {
     "data": {
      "text/plain": [
       "[8.8, 12, 21, 34, 65]"
      ]
     },
     "execution_count": 41,
     "metadata": {},
     "output_type": "execute_result"
    }
   ],
   "source": [
    "sample_list.reverse()\n",
    "sample_list"
   ]
  },
  {
   "cell_type": "markdown",
   "id": "441ab1ee",
   "metadata": {},
   "source": [
    "## Tuple\n",
    "### Allows heterogeneous data\n",
    "### Cannot change the data ince declared - Immutable\n",
    "### Allows index which starts from '0'\n",
    "### declared using  ( )\n",
    "\n"
   ]
  },
  {
   "cell_type": "code",
   "execution_count": 28,
   "id": "f85a810e",
   "metadata": {},
   "outputs": [
    {
     "data": {
      "text/plain": [
       "(21, 34, 65, 12, 8.8)"
      ]
     },
     "execution_count": 28,
     "metadata": {},
     "output_type": "execute_result"
    }
   ],
   "source": [
    "sample_tuple= (21,34,65,12,8.8)\n",
    "sample_tuple"
   ]
  },
  {
   "cell_type": "code",
   "execution_count": 29,
   "id": "cfe7545d",
   "metadata": {},
   "outputs": [
    {
     "ename": "AttributeError",
     "evalue": "'tuple' object has no attribute 'reverse'",
     "output_type": "error",
     "traceback": [
      "\u001b[1;31m---------------------------------------------------------------------------\u001b[0m",
      "\u001b[1;31mAttributeError\u001b[0m                            Traceback (most recent call last)",
      "\u001b[1;32m~\\AppData\\Local\\Temp/ipykernel_7696/2111542599.py\u001b[0m in \u001b[0;36m<module>\u001b[1;34m\u001b[0m\n\u001b[1;32m----> 1\u001b[1;33m \u001b[0msample_tuple\u001b[0m\u001b[1;33m.\u001b[0m\u001b[0mreverse\u001b[0m\u001b[1;33m(\u001b[0m\u001b[1;33m)\u001b[0m\u001b[1;33m\u001b[0m\u001b[1;33m\u001b[0m\u001b[0m\n\u001b[0m",
      "\u001b[1;31mAttributeError\u001b[0m: 'tuple' object has no attribute 'reverse'"
     ]
    }
   ],
   "source": [
    "sample_tuple.reverse()"
   ]
  },
  {
   "cell_type": "code",
   "execution_count": 30,
   "id": "1d02de37",
   "metadata": {},
   "outputs": [],
   "source": [
    "sample_tuple=(1,56,3.5,\"hi\",1+2j)\n",
    "sample_tuple"
   ]
  },
  {
   "cell_type": "code",
   "execution_count": 32,
   "id": "644bcdc8",
   "metadata": {},
   "outputs": [
    {
     "data": {
      "text/plain": [
       "tuple"
      ]
     },
     "execution_count": 32,
     "metadata": {},
     "output_type": "execute_result"
    }
   ],
   "source": [
    "type(sample_tuple)"
   ]
  },
  {
   "cell_type": "code",
   "execution_count": 33,
   "id": "af88f781",
   "metadata": {},
   "outputs": [
    {
     "data": {
      "text/plain": [
       "(1, 56, 3.5, 'hi', (1+2j))"
      ]
     },
     "execution_count": 33,
     "metadata": {},
     "output_type": "execute_result"
    }
   ],
   "source": [
    "sample_tuple=1,56,3.5,\"hi\",1+2j\n",
    "sample_tuple"
   ]
  },
  {
   "cell_type": "code",
   "execution_count": 34,
   "id": "61326781",
   "metadata": {},
   "outputs": [
    {
     "data": {
      "text/plain": [
       "'hi'"
      ]
     },
     "execution_count": 34,
     "metadata": {},
     "output_type": "execute_result"
    }
   ],
   "source": [
    "sample_tuple[3]"
   ]
  },
  {
   "cell_type": "code",
   "execution_count": 35,
   "id": "c389d536",
   "metadata": {},
   "outputs": [
    {
     "data": {
      "text/plain": [
       "(1+2j)"
      ]
     },
     "execution_count": 35,
     "metadata": {},
     "output_type": "execute_result"
    }
   ],
   "source": [
    "sample_tuple[4]"
   ]
  },
  {
   "cell_type": "code",
   "execution_count": 37,
   "id": "553f5ce8",
   "metadata": {},
   "outputs": [
    {
     "ename": "AttributeError",
     "evalue": "'tuple' object has no attribute 'reverse'",
     "output_type": "error",
     "traceback": [
      "\u001b[1;31m---------------------------------------------------------------------------\u001b[0m",
      "\u001b[1;31mAttributeError\u001b[0m                            Traceback (most recent call last)",
      "\u001b[1;32m~\\AppData\\Local\\Temp/ipykernel_7696/2111542599.py\u001b[0m in \u001b[0;36m<module>\u001b[1;34m\u001b[0m\n\u001b[1;32m----> 1\u001b[1;33m \u001b[0msample_tuple\u001b[0m\u001b[1;33m.\u001b[0m\u001b[0mreverse\u001b[0m\u001b[1;33m(\u001b[0m\u001b[1;33m)\u001b[0m\u001b[1;33m\u001b[0m\u001b[1;33m\u001b[0m\u001b[0m\n\u001b[0m",
      "\u001b[1;31mAttributeError\u001b[0m: 'tuple' object has no attribute 'reverse'"
     ]
    }
   ],
   "source": [
    "sample_tuple.reverse()"
   ]
  },
  {
   "cell_type": "code",
   "execution_count": 38,
   "id": "dac71e9c",
   "metadata": {},
   "outputs": [
    {
     "name": "stdout",
     "output_type": "stream",
     "text": [
      "(1, 56, 3.5, 'hi', (1+2j))\n"
     ]
    }
   ],
   "source": [
    "print(sample_tuple)"
   ]
  },
  {
   "cell_type": "markdown",
   "id": "45dd3d2a",
   "metadata": {},
   "source": [
    "## Set\n",
    "### Heterogenous\n",
    "### Unique numbers\n",
    "### Irreversible\n",
    "### Immutable using index, but can be mutable using add, remove etc \n",
    "### Ordered first place \"\"\n"
   ]
  },
  {
   "cell_type": "code",
   "execution_count": 43,
   "id": "c51ec295",
   "metadata": {},
   "outputs": [
    {
     "data": {
      "text/plain": [
       "set"
      ]
     },
     "execution_count": 43,
     "metadata": {},
     "output_type": "execute_result"
    }
   ],
   "source": [
    "sample_set ={1,123,43,23,45,67,22,21,3,66,66,0,23,43,1,\"hi\",\"fox\",\"a\",\"abc\",252,13.5}\n",
    "type(sample_set)"
   ]
  },
  {
   "cell_type": "code",
   "execution_count": 46,
   "id": "34dad072",
   "metadata": {},
   "outputs": [
    {
     "data": {
      "text/plain": [
       "{0, 1, 123, 13.5, 21, 22, 23, 252, 3, 43, 45, 66, 67, 'a', 'abc', 'fox', 'hi'}"
      ]
     },
     "execution_count": 46,
     "metadata": {},
     "output_type": "execute_result"
    }
   ],
   "source": [
    "sample_set"
   ]
  },
  {
   "cell_type": "code",
   "execution_count": 47,
   "id": "8e3f00f2",
   "metadata": {},
   "outputs": [],
   "source": [
    "sample_set.add(13)"
   ]
  },
  {
   "cell_type": "code",
   "execution_count": 48,
   "id": "080fd3c2",
   "metadata": {},
   "outputs": [
    {
     "data": {
      "text/plain": [
       "{0,\n",
       " 1,\n",
       " 123,\n",
       " 13,\n",
       " 13.5,\n",
       " 21,\n",
       " 22,\n",
       " 23,\n",
       " 252,\n",
       " 3,\n",
       " 43,\n",
       " 45,\n",
       " 66,\n",
       " 67,\n",
       " 'a',\n",
       " 'abc',\n",
       " 'fox',\n",
       " 'hi'}"
      ]
     },
     "execution_count": 48,
     "metadata": {},
     "output_type": "execute_result"
    }
   ],
   "source": [
    "sample_set"
   ]
  },
  {
   "cell_type": "code",
   "execution_count": 49,
   "id": "28f83a4e",
   "metadata": {},
   "outputs": [
    {
     "data": {
      "text/plain": [
       "{0, 1, 123, 13, 13.5, 21, 22, 23, 252, 3, 43, 45, 66, 'a', 'abc', 'fox', 'hi'}"
      ]
     },
     "execution_count": 49,
     "metadata": {},
     "output_type": "execute_result"
    }
   ],
   "source": [
    "sample_set.remove(67)\n",
    "sample_set"
   ]
  },
  {
   "cell_type": "markdown",
   "id": "4b79546f",
   "metadata": {},
   "source": [
    "## Dictionary\n",
    "### Index will not work while retreiving the values\n",
    "### Key is unique but values can be duplicated\n",
    "### Can retreive the value using key\n",
    "### can change the value using key\n",
    "### key is immutable"
   ]
  },
  {
   "cell_type": "code",
   "execution_count": 50,
   "id": "72180fa4",
   "metadata": {},
   "outputs": [],
   "source": [
    "sample_dict = {\"a\":\"alpha\",1:\"first\",2:\"second\",3:\"third\",1:\"fourth\",5:\"fourth\",6:\"sixth\"}"
   ]
  },
  {
   "cell_type": "code",
   "execution_count": 51,
   "id": "665750cd",
   "metadata": {},
   "outputs": [
    {
     "data": {
      "text/plain": [
       "{'a': 'alpha', 1: 'fourth', 2: 'second', 3: 'third', 5: 'fourth', 6: 'sixth'}"
      ]
     },
     "execution_count": 51,
     "metadata": {},
     "output_type": "execute_result"
    }
   ],
   "source": [
    "sample_dict ### Key is unique but values can be duplicated"
   ]
  },
  {
   "cell_type": "code",
   "execution_count": 56,
   "id": "be4656c1",
   "metadata": {},
   "outputs": [
    {
     "data": {
      "text/plain": [
       "'alpha'"
      ]
     },
     "execution_count": 56,
     "metadata": {},
     "output_type": "execute_result"
    }
   ],
   "source": [
    "sample_dict[\"a\"]"
   ]
  },
  {
   "cell_type": "code",
   "execution_count": 58,
   "id": "567fa680",
   "metadata": {},
   "outputs": [
    {
     "data": {
      "text/plain": [
       "{'a': 'alpha',\n",
       " 1: 'fourth',\n",
       " 2: 'second',\n",
       " 3: 'thirteen',\n",
       " 5: 'fourth',\n",
       " 6: 'sixth'}"
      ]
     },
     "execution_count": 58,
     "metadata": {},
     "output_type": "execute_result"
    }
   ],
   "source": [
    "sample_dict[3]=\"thirteen\"### Mutable using key\n",
    "sample_dict"
   ]
  },
  {
   "cell_type": "code",
   "execution_count": 59,
   "id": "058ee437",
   "metadata": {},
   "outputs": [
    {
     "data": {
      "text/plain": [
       "{'a': 'alpha',\n",
       " 1: 'fourth',\n",
       " 2: 'second',\n",
       " 3: 'thirteen',\n",
       " 5: 'fourth',\n",
       " 6: 'sixth',\n",
       " 8: 'Sixty seven'}"
      ]
     },
     "execution_count": 59,
     "metadata": {},
     "output_type": "execute_result"
    }
   ],
   "source": [
    "sample_dict[8]=\"Sixty seven\"\n",
    "sample_dict"
   ]
  },
  {
   "cell_type": "code",
   "execution_count": null,
   "id": "f8d4978c",
   "metadata": {},
   "outputs": [],
   "source": []
  }
 ],
 "metadata": {
  "kernelspec": {
   "display_name": "Python 3 (ipykernel)",
   "language": "python",
   "name": "python3"
  },
  "language_info": {
   "codemirror_mode": {
    "name": "ipython",
    "version": 3
   },
   "file_extension": ".py",
   "mimetype": "text/x-python",
   "name": "python",
   "nbconvert_exporter": "python",
   "pygments_lexer": "ipython3",
   "version": "3.9.7"
  }
 },
 "nbformat": 4,
 "nbformat_minor": 5
}
