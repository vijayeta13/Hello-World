{
 "cells": [
  {
   "cell_type": "markdown",
   "id": "1da8a3a3",
   "metadata": {},
   "source": [
    "## What are variables?\n",
    "### Variables are containers that store values\n",
    "### Python has no command for declaring the variables\n",
    "### When you assign a value, a variable is created"
   ]
  },
  {
   "cell_type": "markdown",
   "id": "d9e0b90d",
   "metadata": {},
   "source": [
    "## Rules for declaring variables\n",
    "### A variable name must start with a letter or underscore character\n",
    "### A variable name cannot start with a number\n",
    "### A variable can only contain alphanumeric characters and underscores (A-Z,a-z,_)\n",
    "### Variable names are case sensitive"
   ]
  },
  {
   "cell_type": "code",
   "execution_count": 1,
   "id": "20e06f7b",
   "metadata": {},
   "outputs": [
    {
     "data": {
      "text/plain": [
       "13"
      ]
     },
     "execution_count": 1,
     "metadata": {},
     "output_type": "execute_result"
    }
   ],
   "source": [
    "### Declaring a variable\n",
    "m=13\n",
    "m"
   ]
  },
  {
   "cell_type": "code",
   "execution_count": null,
   "id": "be736316",
   "metadata": {},
   "outputs": [],
   "source": [
    "Name=\"Vijayeta\"# satisfy the rules\n",
    "Name"
   ]
  },
  {
   "cell_type": "code",
   "execution_count": null,
   "id": "85efb07b",
   "metadata": {},
   "outputs": [],
   "source": [
    "name ###case sensitive"
   ]
  },
  {
   "cell_type": "code",
   "execution_count": null,
   "id": "e34c4430",
   "metadata": {},
   "outputs": [],
   "source": [
    "name_123=\"Vijayeta\"\n",
    "name_123"
   ]
  },
  {
   "cell_type": "code",
   "execution_count": null,
   "id": "cdab1376",
   "metadata": {},
   "outputs": [],
   "source": [
    "1Nickname ### should not begin with numeric "
   ]
  },
  {
   "cell_type": "code",
   "execution_count": null,
   "id": "e1687a23",
   "metadata": {},
   "outputs": [],
   "source": [
    "Nick1_name ### Number can be used anywhere in the variable except the first character"
   ]
  },
  {
   "cell_type": "code",
   "execution_count": null,
   "id": "2a464f1a",
   "metadata": {},
   "outputs": [],
   "source": [
    "Nick*name=\"Vijayeta\" ### No special character is allowed than underscore"
   ]
  },
  {
   "cell_type": "code",
   "execution_count": null,
   "id": "705d19dc",
   "metadata": {},
   "outputs": [],
   "source": [
    "Nick@name=\"Vijayeta\"### No special character is allowed than underscore"
   ]
  },
  {
   "cell_type": "code",
   "execution_count": null,
   "id": "e3cc20dd",
   "metadata": {},
   "outputs": [],
   "source": [
    "Nick_name=\"Vijayeta\"\n",
    "Nick_name"
   ]
  },
  {
   "cell_type": "code",
   "execution_count": null,
   "id": "c4a9ba19",
   "metadata": {},
   "outputs": [],
   "source": [
    "age=36\n",
    "age"
   ]
  },
  {
   "cell_type": "code",
   "execution_count": null,
   "id": "cea41cc5",
   "metadata": {},
   "outputs": [],
   "source": [
    "Age### Case sensitive"
   ]
  },
  {
   "cell_type": "code",
   "execution_count": null,
   "id": "46dd68cf",
   "metadata": {},
   "outputs": [],
   "source": [
    "AGE ### Case sensitive"
   ]
  },
  {
   "cell_type": "code",
   "execution_count": null,
   "id": "18577a06",
   "metadata": {},
   "outputs": [],
   "source": [
    "l0ist =1,2,3\n",
    "l0ist"
   ]
  }
 ],
 "metadata": {
  "kernelspec": {
   "display_name": "Python 3 (ipykernel)",
   "language": "python",
   "name": "python3"
  },
  "language_info": {
   "codemirror_mode": {
    "name": "ipython",
    "version": 3
   },
   "file_extension": ".py",
   "mimetype": "text/x-python",
   "name": "python",
   "nbconvert_exporter": "python",
   "pygments_lexer": "ipython3",
   "version": "3.9.7"
  }
 },
 "nbformat": 4,
 "nbformat_minor": 5
}
